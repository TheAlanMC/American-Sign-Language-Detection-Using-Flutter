{
 "cells": [
  {
   "cell_type": "code",
   "execution_count": 1,
   "metadata": {},
   "outputs": [],
   "source": [
    "#importamos las librerias\n",
    "import pandas as pd\n",
    "from sklearn.model_selection import train_test_split\n",
    "from sklearn.metrics import accuracy_score, confusion_matrix, classification_report, f1_score, recall_score, precision_score\n",
    "from sklearn.svm import SVC\n",
    "import seaborn as sns\n",
    "import matplotlib.pyplot as plt\n",
    "import joblib"
   ]
  },
  {
   "cell_type": "markdown",
   "metadata": {},
   "source": [
    "## Limpieza de datos"
   ]
  },
  {
   "cell_type": "code",
   "execution_count": 2,
   "metadata": {},
   "outputs": [
    {
     "data": {
      "text/html": [
       "<div>\n",
       "<style scoped>\n",
       "    .dataframe tbody tr th:only-of-type {\n",
       "        vertical-align: middle;\n",
       "    }\n",
       "\n",
       "    .dataframe tbody tr th {\n",
       "        vertical-align: top;\n",
       "    }\n",
       "\n",
       "    .dataframe thead th {\n",
       "        text-align: right;\n",
       "    }\n",
       "</style>\n",
       "<table border=\"1\" class=\"dataframe\">\n",
       "  <thead>\n",
       "    <tr style=\"text-align: right;\">\n",
       "      <th></th>\n",
       "      <th>0</th>\n",
       "      <th>1</th>\n",
       "      <th>2</th>\n",
       "      <th>3</th>\n",
       "      <th>4</th>\n",
       "      <th>5</th>\n",
       "      <th>6</th>\n",
       "      <th>7</th>\n",
       "      <th>8</th>\n",
       "      <th>9</th>\n",
       "      <th>...</th>\n",
       "      <th>33</th>\n",
       "      <th>34</th>\n",
       "      <th>35</th>\n",
       "      <th>36</th>\n",
       "      <th>37</th>\n",
       "      <th>38</th>\n",
       "      <th>39</th>\n",
       "      <th>40</th>\n",
       "      <th>41</th>\n",
       "      <th>label</th>\n",
       "    </tr>\n",
       "  </thead>\n",
       "  <tbody>\n",
       "    <tr>\n",
       "      <th>0</th>\n",
       "      <td>0.710608</td>\n",
       "      <td>0.360649</td>\n",
       "      <td>0.615862</td>\n",
       "      <td>0.346118</td>\n",
       "      <td>0.550858</td>\n",
       "      <td>0.282561</td>\n",
       "      <td>0.534773</td>\n",
       "      <td>0.218622</td>\n",
       "      <td>0.534400</td>\n",
       "      <td>0.164755</td>\n",
       "      <td>...</td>\n",
       "      <td>0.294587</td>\n",
       "      <td>0.770088</td>\n",
       "      <td>0.201416</td>\n",
       "      <td>0.770913</td>\n",
       "      <td>0.183202</td>\n",
       "      <td>0.770110</td>\n",
       "      <td>0.239947</td>\n",
       "      <td>0.771763</td>\n",
       "      <td>0.288994</td>\n",
       "      <td>A</td>\n",
       "    </tr>\n",
       "    <tr>\n",
       "      <th>1</th>\n",
       "      <td>0.405693</td>\n",
       "      <td>0.647552</td>\n",
       "      <td>0.319725</td>\n",
       "      <td>0.581064</td>\n",
       "      <td>0.271913</td>\n",
       "      <td>0.498252</td>\n",
       "      <td>0.273852</td>\n",
       "      <td>0.422790</td>\n",
       "      <td>0.295577</td>\n",
       "      <td>0.365715</td>\n",
       "      <td>...</td>\n",
       "      <td>0.546456</td>\n",
       "      <td>0.500249</td>\n",
       "      <td>0.503994</td>\n",
       "      <td>0.491324</td>\n",
       "      <td>0.457144</td>\n",
       "      <td>0.470198</td>\n",
       "      <td>0.505760</td>\n",
       "      <td>0.454539</td>\n",
       "      <td>0.552648</td>\n",
       "      <td>A</td>\n",
       "    </tr>\n",
       "    <tr>\n",
       "      <th>2</th>\n",
       "      <td>0.316689</td>\n",
       "      <td>0.521770</td>\n",
       "      <td>0.232337</td>\n",
       "      <td>0.467040</td>\n",
       "      <td>0.177462</td>\n",
       "      <td>0.386787</td>\n",
       "      <td>0.160568</td>\n",
       "      <td>0.317913</td>\n",
       "      <td>0.168354</td>\n",
       "      <td>0.258710</td>\n",
       "      <td>...</td>\n",
       "      <td>0.429866</td>\n",
       "      <td>0.397665</td>\n",
       "      <td>0.363233</td>\n",
       "      <td>0.370970</td>\n",
       "      <td>0.322016</td>\n",
       "      <td>0.361503</td>\n",
       "      <td>0.368900</td>\n",
       "      <td>0.359598</td>\n",
       "      <td>0.413843</td>\n",
       "      <td>A</td>\n",
       "    </tr>\n",
       "    <tr>\n",
       "      <th>3</th>\n",
       "      <td>0.548108</td>\n",
       "      <td>0.650613</td>\n",
       "      <td>0.476013</td>\n",
       "      <td>0.570940</td>\n",
       "      <td>0.428439</td>\n",
       "      <td>0.476571</td>\n",
       "      <td>0.431986</td>\n",
       "      <td>0.391320</td>\n",
       "      <td>0.477111</td>\n",
       "      <td>0.336533</td>\n",
       "      <td>...</td>\n",
       "      <td>0.536887</td>\n",
       "      <td>0.672369</td>\n",
       "      <td>0.509500</td>\n",
       "      <td>0.671438</td>\n",
       "      <td>0.455123</td>\n",
       "      <td>0.642026</td>\n",
       "      <td>0.502216</td>\n",
       "      <td>0.620230</td>\n",
       "      <td>0.548035</td>\n",
       "      <td>A</td>\n",
       "    </tr>\n",
       "    <tr>\n",
       "      <th>4</th>\n",
       "      <td>0.000000</td>\n",
       "      <td>0.000000</td>\n",
       "      <td>0.000000</td>\n",
       "      <td>0.000000</td>\n",
       "      <td>0.000000</td>\n",
       "      <td>0.000000</td>\n",
       "      <td>0.000000</td>\n",
       "      <td>0.000000</td>\n",
       "      <td>0.000000</td>\n",
       "      <td>0.000000</td>\n",
       "      <td>...</td>\n",
       "      <td>0.000000</td>\n",
       "      <td>0.000000</td>\n",
       "      <td>0.000000</td>\n",
       "      <td>0.000000</td>\n",
       "      <td>0.000000</td>\n",
       "      <td>0.000000</td>\n",
       "      <td>0.000000</td>\n",
       "      <td>0.000000</td>\n",
       "      <td>0.000000</td>\n",
       "      <td>A</td>\n",
       "    </tr>\n",
       "    <tr>\n",
       "      <th>...</th>\n",
       "      <td>...</td>\n",
       "      <td>...</td>\n",
       "      <td>...</td>\n",
       "      <td>...</td>\n",
       "      <td>...</td>\n",
       "      <td>...</td>\n",
       "      <td>...</td>\n",
       "      <td>...</td>\n",
       "      <td>...</td>\n",
       "      <td>...</td>\n",
       "      <td>...</td>\n",
       "      <td>...</td>\n",
       "      <td>...</td>\n",
       "      <td>...</td>\n",
       "      <td>...</td>\n",
       "      <td>...</td>\n",
       "      <td>...</td>\n",
       "      <td>...</td>\n",
       "      <td>...</td>\n",
       "      <td>...</td>\n",
       "      <td>...</td>\n",
       "    </tr>\n",
       "    <tr>\n",
       "      <th>83994</th>\n",
       "      <td>0.000000</td>\n",
       "      <td>0.000000</td>\n",
       "      <td>0.000000</td>\n",
       "      <td>0.000000</td>\n",
       "      <td>0.000000</td>\n",
       "      <td>0.000000</td>\n",
       "      <td>0.000000</td>\n",
       "      <td>0.000000</td>\n",
       "      <td>0.000000</td>\n",
       "      <td>0.000000</td>\n",
       "      <td>...</td>\n",
       "      <td>0.000000</td>\n",
       "      <td>0.000000</td>\n",
       "      <td>0.000000</td>\n",
       "      <td>0.000000</td>\n",
       "      <td>0.000000</td>\n",
       "      <td>0.000000</td>\n",
       "      <td>0.000000</td>\n",
       "      <td>0.000000</td>\n",
       "      <td>0.000000</td>\n",
       "      <td>space</td>\n",
       "    </tr>\n",
       "    <tr>\n",
       "      <th>83995</th>\n",
       "      <td>0.000000</td>\n",
       "      <td>0.000000</td>\n",
       "      <td>0.000000</td>\n",
       "      <td>0.000000</td>\n",
       "      <td>0.000000</td>\n",
       "      <td>0.000000</td>\n",
       "      <td>0.000000</td>\n",
       "      <td>0.000000</td>\n",
       "      <td>0.000000</td>\n",
       "      <td>0.000000</td>\n",
       "      <td>...</td>\n",
       "      <td>0.000000</td>\n",
       "      <td>0.000000</td>\n",
       "      <td>0.000000</td>\n",
       "      <td>0.000000</td>\n",
       "      <td>0.000000</td>\n",
       "      <td>0.000000</td>\n",
       "      <td>0.000000</td>\n",
       "      <td>0.000000</td>\n",
       "      <td>0.000000</td>\n",
       "      <td>space</td>\n",
       "    </tr>\n",
       "    <tr>\n",
       "      <th>83996</th>\n",
       "      <td>0.000000</td>\n",
       "      <td>0.000000</td>\n",
       "      <td>0.000000</td>\n",
       "      <td>0.000000</td>\n",
       "      <td>0.000000</td>\n",
       "      <td>0.000000</td>\n",
       "      <td>0.000000</td>\n",
       "      <td>0.000000</td>\n",
       "      <td>0.000000</td>\n",
       "      <td>0.000000</td>\n",
       "      <td>...</td>\n",
       "      <td>0.000000</td>\n",
       "      <td>0.000000</td>\n",
       "      <td>0.000000</td>\n",
       "      <td>0.000000</td>\n",
       "      <td>0.000000</td>\n",
       "      <td>0.000000</td>\n",
       "      <td>0.000000</td>\n",
       "      <td>0.000000</td>\n",
       "      <td>0.000000</td>\n",
       "      <td>space</td>\n",
       "    </tr>\n",
       "    <tr>\n",
       "      <th>83997</th>\n",
       "      <td>0.000000</td>\n",
       "      <td>0.000000</td>\n",
       "      <td>0.000000</td>\n",
       "      <td>0.000000</td>\n",
       "      <td>0.000000</td>\n",
       "      <td>0.000000</td>\n",
       "      <td>0.000000</td>\n",
       "      <td>0.000000</td>\n",
       "      <td>0.000000</td>\n",
       "      <td>0.000000</td>\n",
       "      <td>...</td>\n",
       "      <td>0.000000</td>\n",
       "      <td>0.000000</td>\n",
       "      <td>0.000000</td>\n",
       "      <td>0.000000</td>\n",
       "      <td>0.000000</td>\n",
       "      <td>0.000000</td>\n",
       "      <td>0.000000</td>\n",
       "      <td>0.000000</td>\n",
       "      <td>0.000000</td>\n",
       "      <td>space</td>\n",
       "    </tr>\n",
       "    <tr>\n",
       "      <th>83998</th>\n",
       "      <td>0.384730</td>\n",
       "      <td>0.620527</td>\n",
       "      <td>0.331789</td>\n",
       "      <td>0.559865</td>\n",
       "      <td>0.320400</td>\n",
       "      <td>0.508250</td>\n",
       "      <td>0.322581</td>\n",
       "      <td>0.459902</td>\n",
       "      <td>0.331890</td>\n",
       "      <td>0.414831</td>\n",
       "      <td>...</td>\n",
       "      <td>0.419023</td>\n",
       "      <td>0.555758</td>\n",
       "      <td>0.540690</td>\n",
       "      <td>0.622514</td>\n",
       "      <td>0.523283</td>\n",
       "      <td>0.642502</td>\n",
       "      <td>0.490160</td>\n",
       "      <td>0.644951</td>\n",
       "      <td>0.458218</td>\n",
       "      <td>space</td>\n",
       "    </tr>\n",
       "  </tbody>\n",
       "</table>\n",
       "<p>83999 rows × 43 columns</p>\n",
       "</div>"
      ],
      "text/plain": [
       "              0         1         2         3         4         5         6  \\\n",
       "0      0.710608  0.360649  0.615862  0.346118  0.550858  0.282561  0.534773   \n",
       "1      0.405693  0.647552  0.319725  0.581064  0.271913  0.498252  0.273852   \n",
       "2      0.316689  0.521770  0.232337  0.467040  0.177462  0.386787  0.160568   \n",
       "3      0.548108  0.650613  0.476013  0.570940  0.428439  0.476571  0.431986   \n",
       "4      0.000000  0.000000  0.000000  0.000000  0.000000  0.000000  0.000000   \n",
       "...         ...       ...       ...       ...       ...       ...       ...   \n",
       "83994  0.000000  0.000000  0.000000  0.000000  0.000000  0.000000  0.000000   \n",
       "83995  0.000000  0.000000  0.000000  0.000000  0.000000  0.000000  0.000000   \n",
       "83996  0.000000  0.000000  0.000000  0.000000  0.000000  0.000000  0.000000   \n",
       "83997  0.000000  0.000000  0.000000  0.000000  0.000000  0.000000  0.000000   \n",
       "83998  0.384730  0.620527  0.331789  0.559865  0.320400  0.508250  0.322581   \n",
       "\n",
       "              7         8         9  ...        33        34        35  \\\n",
       "0      0.218622  0.534400  0.164755  ...  0.294587  0.770088  0.201416   \n",
       "1      0.422790  0.295577  0.365715  ...  0.546456  0.500249  0.503994   \n",
       "2      0.317913  0.168354  0.258710  ...  0.429866  0.397665  0.363233   \n",
       "3      0.391320  0.477111  0.336533  ...  0.536887  0.672369  0.509500   \n",
       "4      0.000000  0.000000  0.000000  ...  0.000000  0.000000  0.000000   \n",
       "...         ...       ...       ...  ...       ...       ...       ...   \n",
       "83994  0.000000  0.000000  0.000000  ...  0.000000  0.000000  0.000000   \n",
       "83995  0.000000  0.000000  0.000000  ...  0.000000  0.000000  0.000000   \n",
       "83996  0.000000  0.000000  0.000000  ...  0.000000  0.000000  0.000000   \n",
       "83997  0.000000  0.000000  0.000000  ...  0.000000  0.000000  0.000000   \n",
       "83998  0.459902  0.331890  0.414831  ...  0.419023  0.555758  0.540690   \n",
       "\n",
       "             36        37        38        39        40        41  label  \n",
       "0      0.770913  0.183202  0.770110  0.239947  0.771763  0.288994      A  \n",
       "1      0.491324  0.457144  0.470198  0.505760  0.454539  0.552648      A  \n",
       "2      0.370970  0.322016  0.361503  0.368900  0.359598  0.413843      A  \n",
       "3      0.671438  0.455123  0.642026  0.502216  0.620230  0.548035      A  \n",
       "4      0.000000  0.000000  0.000000  0.000000  0.000000  0.000000      A  \n",
       "...         ...       ...       ...       ...       ...       ...    ...  \n",
       "83994  0.000000  0.000000  0.000000  0.000000  0.000000  0.000000  space  \n",
       "83995  0.000000  0.000000  0.000000  0.000000  0.000000  0.000000  space  \n",
       "83996  0.000000  0.000000  0.000000  0.000000  0.000000  0.000000  space  \n",
       "83997  0.000000  0.000000  0.000000  0.000000  0.000000  0.000000  space  \n",
       "83998  0.622514  0.523283  0.642502  0.490160  0.644951  0.458218  space  \n",
       "\n",
       "[83999 rows x 43 columns]"
      ]
     },
     "execution_count": 2,
     "metadata": {},
     "output_type": "execute_result"
    }
   ],
   "source": [
    "#cargo el dataset\n",
    "df = pd.read_csv('/Users/chrisalanapazaaguilar/Documents/Others/ASL Recognition With Flutter/ai/scikit-learn/american_train_dataset.csv')\n",
    "df.columns = [i for i in range(df.shape[1])]\n",
    "df = df.rename(columns={42: 'label'})\n",
    "df"
   ]
  },
  {
   "cell_type": "code",
   "execution_count": 3,
   "metadata": {},
   "outputs": [
    {
     "data": {
      "text/plain": [
       "(83999, 43)"
      ]
     },
     "execution_count": 3,
     "metadata": {},
     "output_type": "execute_result"
    }
   ],
   "source": [
    "# tamaño del dataset sin limpiar \n",
    "df.shape"
   ]
  },
  {
   "cell_type": "code",
   "execution_count": 4,
   "metadata": {},
   "outputs": [
    {
     "name": "stdout",
     "output_type": "stream",
     "text": [
      "Cantidad de valores nulos:  24320\n"
     ]
    }
   ],
   "source": [
    "# verificamos si hay valores nulos\n",
    "all_null_values = df[df.iloc[:, 0] == 0]\n",
    "print(\"Cantidad de valores nulos: \", len(all_null_values.index))"
   ]
  },
  {
   "cell_type": "code",
   "execution_count": 5,
   "metadata": {},
   "outputs": [
    {
     "data": {
      "text/plain": [
       "(59679, 43)"
      ]
     },
     "execution_count": 5,
     "metadata": {},
     "output_type": "execute_result"
    }
   ],
   "source": [
    "# eliminamos los datos nulos\n",
    "df = df.drop(all_null_values.index)\n",
    "df.shape"
   ]
  },
  {
   "cell_type": "markdown",
   "metadata": {},
   "source": [
    "## Normalización de los datos"
   ]
  },
  {
   "cell_type": "code",
   "execution_count": 6,
   "metadata": {},
   "outputs": [
    {
     "name": "stdout",
     "output_type": "stream",
     "text": [
      "Tamaño de las características:  (59679, 42)\n",
      "Tamaño de las etiquetas:  (59679,)\n"
     ]
    }
   ],
   "source": [
    "X = df.iloc[:, :-1]\n",
    "print(\"Tamaño de las características: \", X.shape)\n",
    "Y = df.iloc[:, -1]\n",
    "print(\"Tamaño de las etiquetas: \", Y.shape)"
   ]
  },
  {
   "cell_type": "markdown",
   "metadata": {},
   "source": [
    "## Separación de los datos"
   ]
  },
  {
   "cell_type": "code",
   "execution_count": 7,
   "metadata": {},
   "outputs": [],
   "source": [
    "# dividimos el dataset en train y test\n",
    "x_train, x_test, y_train, y_test = train_test_split(X, Y, test_size=0.2, random_state=0)"
   ]
  },
  {
   "cell_type": "markdown",
   "metadata": {},
   "source": [
    "## Elaboración del modelo"
   ]
  },
  {
   "cell_type": "code",
   "execution_count": 8,
   "metadata": {},
   "outputs": [
    {
     "data": {
      "text/html": [
       "<style>#sk-container-id-1 {color: black;background-color: white;}#sk-container-id-1 pre{padding: 0;}#sk-container-id-1 div.sk-toggleable {background-color: white;}#sk-container-id-1 label.sk-toggleable__label {cursor: pointer;display: block;width: 100%;margin-bottom: 0;padding: 0.3em;box-sizing: border-box;text-align: center;}#sk-container-id-1 label.sk-toggleable__label-arrow:before {content: \"▸\";float: left;margin-right: 0.25em;color: #696969;}#sk-container-id-1 label.sk-toggleable__label-arrow:hover:before {color: black;}#sk-container-id-1 div.sk-estimator:hover label.sk-toggleable__label-arrow:before {color: black;}#sk-container-id-1 div.sk-toggleable__content {max-height: 0;max-width: 0;overflow: hidden;text-align: left;background-color: #f0f8ff;}#sk-container-id-1 div.sk-toggleable__content pre {margin: 0.2em;color: black;border-radius: 0.25em;background-color: #f0f8ff;}#sk-container-id-1 input.sk-toggleable__control:checked~div.sk-toggleable__content {max-height: 200px;max-width: 100%;overflow: auto;}#sk-container-id-1 input.sk-toggleable__control:checked~label.sk-toggleable__label-arrow:before {content: \"▾\";}#sk-container-id-1 div.sk-estimator input.sk-toggleable__control:checked~label.sk-toggleable__label {background-color: #d4ebff;}#sk-container-id-1 div.sk-label input.sk-toggleable__control:checked~label.sk-toggleable__label {background-color: #d4ebff;}#sk-container-id-1 input.sk-hidden--visually {border: 0;clip: rect(1px 1px 1px 1px);clip: rect(1px, 1px, 1px, 1px);height: 1px;margin: -1px;overflow: hidden;padding: 0;position: absolute;width: 1px;}#sk-container-id-1 div.sk-estimator {font-family: monospace;background-color: #f0f8ff;border: 1px dotted black;border-radius: 0.25em;box-sizing: border-box;margin-bottom: 0.5em;}#sk-container-id-1 div.sk-estimator:hover {background-color: #d4ebff;}#sk-container-id-1 div.sk-parallel-item::after {content: \"\";width: 100%;border-bottom: 1px solid gray;flex-grow: 1;}#sk-container-id-1 div.sk-label:hover label.sk-toggleable__label {background-color: #d4ebff;}#sk-container-id-1 div.sk-serial::before {content: \"\";position: absolute;border-left: 1px solid gray;box-sizing: border-box;top: 0;bottom: 0;left: 50%;z-index: 0;}#sk-container-id-1 div.sk-serial {display: flex;flex-direction: column;align-items: center;background-color: white;padding-right: 0.2em;padding-left: 0.2em;position: relative;}#sk-container-id-1 div.sk-item {position: relative;z-index: 1;}#sk-container-id-1 div.sk-parallel {display: flex;align-items: stretch;justify-content: center;background-color: white;position: relative;}#sk-container-id-1 div.sk-item::before, #sk-container-id-1 div.sk-parallel-item::before {content: \"\";position: absolute;border-left: 1px solid gray;box-sizing: border-box;top: 0;bottom: 0;left: 50%;z-index: -1;}#sk-container-id-1 div.sk-parallel-item {display: flex;flex-direction: column;z-index: 1;position: relative;background-color: white;}#sk-container-id-1 div.sk-parallel-item:first-child::after {align-self: flex-end;width: 50%;}#sk-container-id-1 div.sk-parallel-item:last-child::after {align-self: flex-start;width: 50%;}#sk-container-id-1 div.sk-parallel-item:only-child::after {width: 0;}#sk-container-id-1 div.sk-dashed-wrapped {border: 1px dashed gray;margin: 0 0.4em 0.5em 0.4em;box-sizing: border-box;padding-bottom: 0.4em;background-color: white;}#sk-container-id-1 div.sk-label label {font-family: monospace;font-weight: bold;display: inline-block;line-height: 1.2em;}#sk-container-id-1 div.sk-label-container {text-align: center;}#sk-container-id-1 div.sk-container {/* jupyter's `normalize.less` sets `[hidden] { display: none; }` but bootstrap.min.css set `[hidden] { display: none !important; }` so we also need the `!important` here to be able to override the default hidden behavior on the sphinx rendered scikit-learn.org. See: https://github.com/scikit-learn/scikit-learn/issues/21755 */display: inline-block !important;position: relative;}#sk-container-id-1 div.sk-text-repr-fallback {display: none;}</style><div id=\"sk-container-id-1\" class=\"sk-top-container\"><div class=\"sk-text-repr-fallback\"><pre>SVC(C=100, gamma=0.1)</pre><b>In a Jupyter environment, please rerun this cell to show the HTML representation or trust the notebook. <br />On GitHub, the HTML representation is unable to render, please try loading this page with nbviewer.org.</b></div><div class=\"sk-container\" hidden><div class=\"sk-item\"><div class=\"sk-estimator sk-toggleable\"><input class=\"sk-toggleable__control sk-hidden--visually\" id=\"sk-estimator-id-1\" type=\"checkbox\" checked><label for=\"sk-estimator-id-1\" class=\"sk-toggleable__label sk-toggleable__label-arrow\">SVC</label><div class=\"sk-toggleable__content\"><pre>SVC(C=100, gamma=0.1)</pre></div></div></div></div></div>"
      ],
      "text/plain": [
       "SVC(C=100, gamma=0.1)"
      ]
     },
     "execution_count": 8,
     "metadata": {},
     "output_type": "execute_result"
    }
   ],
   "source": [
    "# para el modelo de SVM se elige el kernel rbf\n",
    "# ademas de un cost de 100 y un gamma de 0.1 con el fin de obtener un buen resultado\n",
    "svm = SVC(C=100, gamma=0.1, kernel='rbf')\n",
    "svm.fit(x_train, y_train)"
   ]
  },
  {
   "cell_type": "code",
   "execution_count": 9,
   "metadata": {},
   "outputs": [
    {
     "name": "stdout",
     "output_type": "stream",
     "text": [
      "Precision del entrenamiento:  0.9976331608822235\n"
     ]
    }
   ],
   "source": [
    "# precision del entrenamiento\n",
    "print (\"Precision del entrenamiento: \", svm.score(x_train, y_train))"
   ]
  },
  {
   "cell_type": "code",
   "execution_count": 10,
   "metadata": {},
   "outputs": [],
   "source": [
    "y_pred = svm.predict(x_test)"
   ]
  },
  {
   "cell_type": "code",
   "execution_count": 11,
   "metadata": {},
   "outputs": [
    {
     "name": "stdout",
     "output_type": "stream",
     "text": [
      "Precisión del test:  0.9952245308310992\n"
     ]
    }
   ],
   "source": [
    "# precision del test\n",
    "print( \"Precisión del test: \", accuracy_score(y_test, y_pred))"
   ]
  },
  {
   "cell_type": "markdown",
   "metadata": {},
   "source": [
    "## Visualizamos la matriz de confusión"
   ]
  },
  {
   "cell_type": "code",
   "execution_count": 12,
   "metadata": {},
   "outputs": [],
   "source": [
    "cf_matrix = confusion_matrix(y_test, y_pred)\n",
    "f1 = f1_score(y_test, y_pred, average='micro')\n",
    "recall = recall_score(y_test, y_pred, average='micro')\n",
    "precision = precision_score(y_test, y_pred, average='micro')"
   ]
  },
  {
   "cell_type": "code",
   "execution_count": 13,
   "metadata": {},
   "outputs": [
    {
     "data": {
      "text/plain": [
       "(0.9952245308310992, 0.9952245308310992, 0.9952245308310992)"
      ]
     },
     "execution_count": 13,
     "metadata": {},
     "output_type": "execute_result"
    }
   ],
   "source": [
    "f1, recall, precision"
   ]
  },
  {
   "cell_type": "code",
   "execution_count": 14,
   "metadata": {},
   "outputs": [
    {
     "data": {
      "text/plain": [
       "<AxesSubplot: title={'center': 'Matriz de confusión American Sign Language'}>"
      ]
     },
     "execution_count": 14,
     "metadata": {},
     "output_type": "execute_result"
    },
    {
     "data": {
      "image/png": "[encoded data removed]",
      "text/plain": [
       "<Figure size 1200x1200 with 2 Axes>"
      ]
     },
     "metadata": {},
     "output_type": "display_data"
    }
   ],
   "source": [
    "labels = sorted(list(set(df['label'])))\n",
    "labels = [x.upper() for x in labels]\n",
    "\n",
    "fig, ax = plt.subplots(figsize=(12, 12))\n",
    "\n",
    "ax.set_title('Matriz de confusión American Sign Language')\n",
    "\n",
    "maping = sns.heatmap(cf_matrix, \n",
    "                     annot=True,\n",
    "                     cmap = plt.cm.Blues, \n",
    "                     linewidths=.2,\n",
    "                     xticklabels=labels,\n",
    "                     yticklabels=labels, vmax=8,\n",
    "                     fmt='g',\n",
    "                     ax=ax\n",
    "                    )\n",
    "maping"
   ]
  },
  {
   "cell_type": "code",
   "execution_count": 15,
   "metadata": {},
   "outputs": [],
   "source": [
    "# Guardamos la matriz de confusión\n",
    "maping.figure.savefig(\"output.png\")"
   ]
  },
  {
   "cell_type": "code",
   "execution_count": 16,
   "metadata": {},
   "outputs": [
    {
     "data": {
      "text/plain": [
       "['model.pkl']"
      ]
     },
     "execution_count": 16,
     "metadata": {},
     "output_type": "execute_result"
    }
   ],
   "source": [
    "# Guardamos el modelo\n",
    "joblib.dump(svm, 'model.pkl')"
   ]
  }
 ],
 "metadata": {
  "kernelspec": {
   "display_name": "tensorflow",
   "language": "python",
   "name": "python3"
  },
  "language_info": {
   "codemirror_mode": {
    "name": "ipython",
    "version": 3
   },
   "file_extension": ".py",
   "mimetype": "text/x-python",
   "name": "python",
   "nbconvert_exporter": "python",
   "pygments_lexer": "ipython3",
   "version": "3.9.13"
  },
  "orig_nbformat": 4,
  "vscode": {
   "interpreter": {
    "hash": "504e7e5b2741c53adad9e7ce964919d2b35311b8c691a892782b3bc51b096c66"
   }
  }
 },
 "nbformat": 4,
 "nbformat_minor": 2
}
