{
 "cells": [
  {
   "cell_type": "code",
   "execution_count": 41,
   "metadata": {},
   "outputs": [],
   "source": [
    "import cv2\n",
    "import pandas as pd  \n",
    "import os\n",
    "import numpy as np \n",
    "import mediapipe as mp"
   ]
  },
  {
   "cell_type": "code",
   "execution_count": 42,
   "metadata": {},
   "outputs": [],
   "source": [
    "def image_processed(file_path):\n",
    "    hand_img = cv2.imread(file_path)\n",
    "    # procesamos la imagen\n",
    "    # 1. Convertir a RGB\n",
    "    img_rgb = cv2.cvtColor(hand_img, cv2.COLOR_BGR2RGB)\n",
    "    # 2. Dar la vuelta a la imagen\n",
    "    img_flip = cv2.flip(img_rgb, 1)\n",
    "    # 3. Mediapipe\n",
    "    mp_hands = mp.solutions.hands\n",
    "    hands = mp_hands.Hands(static_image_mode=True, max_num_hands=2, min_detection_confidence=0.7)\n",
    "    output = hands.process(img_flip)\n",
    "    hands.close()\n",
    "\n",
    "    # Extraemos la información de las manos\n",
    "    try:\n",
    "        data = output.multi_hand_landmarks[0]\n",
    "        data = str(data)\n",
    "        data = data.strip().split('\\n')\n",
    "        garbage = ['landmark {', '  visibility: 0.0', '  presence: 0.0', '}']\n",
    "        \n",
    "        # Eliminamos los datos basura\n",
    "        without_garbage = []\n",
    "        for i in data:\n",
    "            if i not in garbage:\n",
    "                without_garbage.append(i)\n",
    "\n",
    "        # Extraemos los datos de forma numérica\n",
    "        clean = []\n",
    "        for i in without_garbage:\n",
    "            i = i.strip()\n",
    "            clean.append(i[2:])\n",
    "\n",
    "        # Eliminamos el eje z\n",
    "        finalClean = []\n",
    "        for i in range(0, len(clean)):\n",
    "            if (i+1) % 3 != 0:\n",
    "                finalClean.append(float(clean[i]))\n",
    "        return(finalClean)\n",
    "        \n",
    "    # Si no detecta ninguna mano, devuelve un array de ceros\n",
    "    except:\n",
    "        return(np.zeros([1,42], dtype=int)[0])"
   ]
  },
  {
   "cell_type": "code",
   "execution_count": 43,
   "metadata": {},
   "outputs": [],
   "source": [
    "file_path = 'dataset/Train/A/10.jpg'\n",
    "data = image_processed(file_path)\n"
   ]
  }
 ],
 "metadata": {
  "kernelspec": {
   "display_name": "Python 3.9.13 ('tensorflow')",
   "language": "python",
   "name": "python3"
  },
  "language_info": {
   "codemirror_mode": {
    "name": "ipython",
    "version": 3
   },
   "file_extension": ".py",
   "mimetype": "text/x-python",
   "name": "python",
   "nbconvert_exporter": "python",
   "pygments_lexer": "ipython3",
   "version": "3.9.13"
  },
  "orig_nbformat": 4,
  "vscode": {
   "interpreter": {
    "hash": "504e7e5b2741c53adad9e7ce964919d2b35311b8c691a892782b3bc51b096c66"
   }
  }
 },
 "nbformat": 4,
 "nbformat_minor": 2
}
