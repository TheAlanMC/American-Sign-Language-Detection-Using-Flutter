{
 "cells": [
  {
   "cell_type": "code",
   "execution_count": null,
   "metadata": {},
   "outputs": [],
   "source": [
    "import tensorflow as tf\n",
    "import os #for file management\n"
   ]
  },
  {
   "cell_type": "code",
   "execution_count": 2,
   "metadata": {},
   "outputs": [
    {
     "name": "stdout",
     "output_type": "stream",
     "text": [
      "Found existing installation: tensorflow 2.10.0\n",
      "Uninstalling tensorflow-2.10.0:\n",
      "  Would remove:\n",
      "    /Users/chrisalanapazaaguilar/opt/anaconda3/bin/estimator_ckpt_converter\n",
      "    /Users/chrisalanapazaaguilar/opt/anaconda3/bin/import_pb_to_tensorboard\n",
      "    /Users/chrisalanapazaaguilar/opt/anaconda3/bin/saved_model_cli\n",
      "    /Users/chrisalanapazaaguilar/opt/anaconda3/bin/tensorboard\n",
      "    /Users/chrisalanapazaaguilar/opt/anaconda3/bin/tf_upgrade_v2\n",
      "    /Users/chrisalanapazaaguilar/opt/anaconda3/bin/tflite_convert\n",
      "    /Users/chrisalanapazaaguilar/opt/anaconda3/bin/toco\n",
      "    /Users/chrisalanapazaaguilar/opt/anaconda3/bin/toco_from_protos\n",
      "    /Users/chrisalanapazaaguilar/opt/anaconda3/lib/python3.9/site-packages/tensorflow-2.10.0.dist-info/*\n",
      "    /Users/chrisalanapazaaguilar/opt/anaconda3/lib/python3.9/site-packages/tensorflow/*\n",
      "Proceed (Y/n)? ^C\n",
      "\u001b[31mERROR: Operation cancelled by user\u001b[0m\n",
      "Note: you may need to restart the kernel to use updated packages.\n"
     ]
    }
   ],
   "source": []
  }
 ],
 "metadata": {
  "kernelspec": {
   "display_name": "Python 3 (ipykernel)",
   "language": "python",
   "name": "python3"
  },
  "language_info": {
   "codemirror_mode": {
    "name": "ipython",
    "version": 3
   },
   "file_extension": ".py",
   "mimetype": "text/x-python",
   "name": "python",
   "nbconvert_exporter": "python",
   "pygments_lexer": "ipython3",
   "version": "3.9.12"
  },
  "vscode": {
   "interpreter": {
    "hash": "b1e807020c27a6a08ddad8523fba35444ac194e68e381877b57564d56341dd08"
   }
  }
 },
 "nbformat": 4,
 "nbformat_minor": 2
}
