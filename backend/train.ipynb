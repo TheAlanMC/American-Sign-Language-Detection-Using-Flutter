{
 "cells": [
  {
   "cell_type": "code",
   "execution_count": 1,
   "metadata": {},
   "outputs": [],
   "source": [
    "import tensorflow as tf\n",
    "import numpy as np\n",
    "import matplotlib.pyplot as plt\n",
    "import pandas as pd\n",
    "from keras.models import Sequential\n",
    "from keras.layers import Dense, Conv2D , MaxPool2D , Flatten , Dropout , BatchNormalization\n",
    "from keras.preprocessing.image import ImageDataGenerator\n",
    "from sklearn.model_selection import train_test_split\n",
    "from sklearn.metrics import classification_report,confusion_matrix\n",
    "from keras.callbacks import ReduceLROnPlateau\n",
    "%matplotlib inline"
   ]
  },
  {
   "cell_type": "code",
   "execution_count": 4,
   "metadata": {},
   "outputs": [],
   "source": [
    "df= pd.read_csv(\"american_train_dataset.csv\")\n",
    "df.columns = [i for i in range(df.shape[1])]\n",
    "df = df.rename(columns={42: 'Output'})"
   ]
  },
  {
   "cell_type": "code",
   "execution_count": 5,
   "metadata": {},
   "outputs": [
    {
     "data": {
      "text/html": [
       "<div>\n",
       "<style scoped>\n",
       "    .dataframe tbody tr th:only-of-type {\n",
       "        vertical-align: middle;\n",
       "    }\n",
       "\n",
       "    .dataframe tbody tr th {\n",
       "        vertical-align: top;\n",
       "    }\n",
       "\n",
       "    .dataframe thead th {\n",
       "        text-align: right;\n",
       "    }\n",
       "</style>\n",
       "<table border=\"1\" class=\"dataframe\">\n",
       "  <thead>\n",
       "    <tr style=\"text-align: right;\">\n",
       "      <th></th>\n",
       "      <th>0</th>\n",
       "      <th>1</th>\n",
       "      <th>2</th>\n",
       "      <th>3</th>\n",
       "      <th>4</th>\n",
       "      <th>5</th>\n",
       "      <th>6</th>\n",
       "      <th>7</th>\n",
       "      <th>8</th>\n",
       "      <th>9</th>\n",
       "      <th>...</th>\n",
       "      <th>33</th>\n",
       "      <th>34</th>\n",
       "      <th>35</th>\n",
       "      <th>36</th>\n",
       "      <th>37</th>\n",
       "      <th>38</th>\n",
       "      <th>39</th>\n",
       "      <th>40</th>\n",
       "      <th>41</th>\n",
       "      <th>Output</th>\n",
       "    </tr>\n",
       "  </thead>\n",
       "  <tbody>\n",
       "    <tr>\n",
       "      <th>0</th>\n",
       "      <td>0.710651</td>\n",
       "      <td>0.360695</td>\n",
       "      <td>0.615888</td>\n",
       "      <td>0.346171</td>\n",
       "      <td>0.550860</td>\n",
       "      <td>0.282601</td>\n",
       "      <td>0.534762</td>\n",
       "      <td>0.218653</td>\n",
       "      <td>0.534387</td>\n",
       "      <td>0.164782</td>\n",
       "      <td>...</td>\n",
       "      <td>0.294588</td>\n",
       "      <td>0.770108</td>\n",
       "      <td>0.201429</td>\n",
       "      <td>0.770906</td>\n",
       "      <td>0.183164</td>\n",
       "      <td>0.770106</td>\n",
       "      <td>0.239929</td>\n",
       "      <td>0.771767</td>\n",
       "      <td>0.288998</td>\n",
       "      <td>A</td>\n",
       "    </tr>\n",
       "    <tr>\n",
       "      <th>1</th>\n",
       "      <td>0.405695</td>\n",
       "      <td>0.647552</td>\n",
       "      <td>0.319726</td>\n",
       "      <td>0.581067</td>\n",
       "      <td>0.271913</td>\n",
       "      <td>0.498254</td>\n",
       "      <td>0.273852</td>\n",
       "      <td>0.422791</td>\n",
       "      <td>0.295577</td>\n",
       "      <td>0.365717</td>\n",
       "      <td>...</td>\n",
       "      <td>0.546457</td>\n",
       "      <td>0.500247</td>\n",
       "      <td>0.503992</td>\n",
       "      <td>0.491320</td>\n",
       "      <td>0.457143</td>\n",
       "      <td>0.470195</td>\n",
       "      <td>0.505762</td>\n",
       "      <td>0.454539</td>\n",
       "      <td>0.552650</td>\n",
       "      <td>A</td>\n",
       "    </tr>\n",
       "    <tr>\n",
       "      <th>2</th>\n",
       "      <td>0.316689</td>\n",
       "      <td>0.521771</td>\n",
       "      <td>0.232337</td>\n",
       "      <td>0.467040</td>\n",
       "      <td>0.177462</td>\n",
       "      <td>0.386787</td>\n",
       "      <td>0.160568</td>\n",
       "      <td>0.317913</td>\n",
       "      <td>0.168354</td>\n",
       "      <td>0.258710</td>\n",
       "      <td>...</td>\n",
       "      <td>0.429866</td>\n",
       "      <td>0.397665</td>\n",
       "      <td>0.363233</td>\n",
       "      <td>0.370970</td>\n",
       "      <td>0.322016</td>\n",
       "      <td>0.361503</td>\n",
       "      <td>0.368900</td>\n",
       "      <td>0.359597</td>\n",
       "      <td>0.413843</td>\n",
       "      <td>A</td>\n",
       "    </tr>\n",
       "    <tr>\n",
       "      <th>3</th>\n",
       "      <td>0.548107</td>\n",
       "      <td>0.650610</td>\n",
       "      <td>0.476015</td>\n",
       "      <td>0.570932</td>\n",
       "      <td>0.428442</td>\n",
       "      <td>0.476566</td>\n",
       "      <td>0.431988</td>\n",
       "      <td>0.391317</td>\n",
       "      <td>0.477113</td>\n",
       "      <td>0.336531</td>\n",
       "      <td>...</td>\n",
       "      <td>0.536890</td>\n",
       "      <td>0.672368</td>\n",
       "      <td>0.509499</td>\n",
       "      <td>0.671439</td>\n",
       "      <td>0.455122</td>\n",
       "      <td>0.642028</td>\n",
       "      <td>0.502216</td>\n",
       "      <td>0.620230</td>\n",
       "      <td>0.548037</td>\n",
       "      <td>A</td>\n",
       "    </tr>\n",
       "    <tr>\n",
       "      <th>4</th>\n",
       "      <td>0.000000</td>\n",
       "      <td>0.000000</td>\n",
       "      <td>0.000000</td>\n",
       "      <td>0.000000</td>\n",
       "      <td>0.000000</td>\n",
       "      <td>0.000000</td>\n",
       "      <td>0.000000</td>\n",
       "      <td>0.000000</td>\n",
       "      <td>0.000000</td>\n",
       "      <td>0.000000</td>\n",
       "      <td>...</td>\n",
       "      <td>0.000000</td>\n",
       "      <td>0.000000</td>\n",
       "      <td>0.000000</td>\n",
       "      <td>0.000000</td>\n",
       "      <td>0.000000</td>\n",
       "      <td>0.000000</td>\n",
       "      <td>0.000000</td>\n",
       "      <td>0.000000</td>\n",
       "      <td>0.000000</td>\n",
       "      <td>A</td>\n",
       "    </tr>\n",
       "  </tbody>\n",
       "</table>\n",
       "<p>5 rows × 43 columns</p>\n",
       "</div>"
      ],
      "text/plain": [
       "          0         1         2         3         4         5         6  \\\n",
       "0  0.710651  0.360695  0.615888  0.346171  0.550860  0.282601  0.534762   \n",
       "1  0.405695  0.647552  0.319726  0.581067  0.271913  0.498254  0.273852   \n",
       "2  0.316689  0.521771  0.232337  0.467040  0.177462  0.386787  0.160568   \n",
       "3  0.548107  0.650610  0.476015  0.570932  0.428442  0.476566  0.431988   \n",
       "4  0.000000  0.000000  0.000000  0.000000  0.000000  0.000000  0.000000   \n",
       "\n",
       "          7         8         9  ...        33        34        35        36  \\\n",
       "0  0.218653  0.534387  0.164782  ...  0.294588  0.770108  0.201429  0.770906   \n",
       "1  0.422791  0.295577  0.365717  ...  0.546457  0.500247  0.503992  0.491320   \n",
       "2  0.317913  0.168354  0.258710  ...  0.429866  0.397665  0.363233  0.370970   \n",
       "3  0.391317  0.477113  0.336531  ...  0.536890  0.672368  0.509499  0.671439   \n",
       "4  0.000000  0.000000  0.000000  ...  0.000000  0.000000  0.000000  0.000000   \n",
       "\n",
       "         37        38        39        40        41  Output  \n",
       "0  0.183164  0.770106  0.239929  0.771767  0.288998       A  \n",
       "1  0.457143  0.470195  0.505762  0.454539  0.552650       A  \n",
       "2  0.322016  0.361503  0.368900  0.359597  0.413843       A  \n",
       "3  0.455122  0.642028  0.502216  0.620230  0.548037       A  \n",
       "4  0.000000  0.000000  0.000000  0.000000  0.000000       A  \n",
       "\n",
       "[5 rows x 43 columns]"
      ]
     },
     "execution_count": 5,
     "metadata": {},
     "output_type": "execute_result"
    }
   ],
   "source": [
    "df.head()"
   ]
  },
  {
   "cell_type": "code",
   "execution_count": 6,
   "metadata": {},
   "outputs": [
    {
     "data": {
      "text/plain": [
       "(83999, 43)"
      ]
     },
     "execution_count": 6,
     "metadata": {},
     "output_type": "execute_result"
    }
   ],
   "source": [
    "df.shape"
   ]
  },
  {
   "cell_type": "code",
   "execution_count": 7,
   "metadata": {},
   "outputs": [
    {
     "name": "stdout",
     "output_type": "stream",
     "text": [
      "Cantidad de valores nulos:  24290\n"
     ]
    }
   ],
   "source": [
    "# removemos los datos nulos del dataset\n",
    "all_null_values = df[df.iloc[:, 0] == 0]\n",
    "print(\"Cantidad de valores nulos: \", len(all_null_values.index))"
   ]
  },
  {
   "cell_type": "code",
   "execution_count": 8,
   "metadata": {},
   "outputs": [
    {
     "data": {
      "text/plain": [
       "(59709, 43)"
      ]
     },
     "execution_count": 8,
     "metadata": {},
     "output_type": "execute_result"
    }
   ],
   "source": [
    "# eliminamos los datos nulos\n",
    "df = df.drop(all_null_values.index)\n",
    "df.shape"
   ]
  },
  {
   "cell_type": "code",
   "execution_count": 9,
   "metadata": {},
   "outputs": [
    {
     "name": "stdout",
     "output_type": "stream",
     "text": [
      "Tamaño de las características:  (59709, 42)\n",
      "Tamaño de las etiquetas:  (59709,)\n"
     ]
    }
   ],
   "source": [
    "# Asignamos los valores de X (42 puntos de la mano) y Y (letra)\n",
    "X = df.iloc[:, :-1]\n",
    "print(\"Tamaño de las características: \", X.shape)\n",
    "y = df.iloc[:, -1]\n",
    "print(\"Tamaño de las etiquetas: \", y.shape)"
   ]
  },
  {
   "cell_type": "code",
   "execution_count": 11,
   "metadata": {},
   "outputs": [],
   "source": [
    "# separamos en conjunto de entrenamiento y de prueba\n",
    "X_train, X_test, y_train, y_test = train_test_split(X, y, test_size=0.2, random_state=42)"
   ]
  },
  {
   "cell_type": "code",
   "execution_count": 12,
   "metadata": {},
   "outputs": [],
   "source": [
    "from sklearn.preprocessing import LabelBinarizer\n",
    "# convertimos las etiquetas a números \n",
    "label_binarizer = LabelBinarizer()\n",
    "y_train = label_binarizer.fit_transform(y_train)\n",
    "y_test = label_binarizer.fit_transform(y_test)"
   ]
  },
  {
   "cell_type": "code",
   "execution_count": 13,
   "metadata": {},
   "outputs": [],
   "source": [
    "learning_rate_reduction = ReduceLROnPlateau(monitor='val_accuracy', patience = 2, verbose=1,factor=0.5, min_lr=0.00001)"
   ]
  },
  {
   "cell_type": "code",
   "execution_count": 20,
   "metadata": {},
   "outputs": [
    {
     "name": "stdout",
     "output_type": "stream",
     "text": [
      "Model: \"sequential_5\"\n",
      "_________________________________________________________________\n",
      " Layer (type)                Output Shape              Param #   \n",
      "=================================================================\n",
      " dense_8 (Dense)             (None, 128)               5504      \n",
      "                                                                 \n",
      " dense_9 (Dense)             (None, 64)                8256      \n",
      "                                                                 \n",
      " dense_10 (Dense)            (None, 32)                2080      \n",
      "                                                                 \n",
      " dense_11 (Dense)            (None, 28)                924       \n",
      "                                                                 \n",
      "=================================================================\n",
      "Total params: 16,764\n",
      "Trainable params: 16,764\n",
      "Non-trainable params: 0\n",
      "_________________________________________________________________\n"
     ]
    }
   ],
   "source": [
    "# creamos el modelo de red neuronal para clasificar las letras\n",
    "model = Sequential()\n",
    "model.add(Dense(128, activation='relu', input_shape=(42,)))\n",
    "model.add(Dense(64, activation='relu'))\n",
    "model.add(Dense(32, activation='relu'))\n",
    "model.add(Dense(28, activation='softmax'))\n",
    "\n",
    "model.compile(optimizer='adam', loss='categorical_crossentropy', metrics=['accuracy'])\n",
    "\n",
    "model.summary()\n"
   ]
  },
  {
   "cell_type": "code",
   "execution_count": 21,
   "metadata": {},
   "outputs": [
    {
     "name": "stdout",
     "output_type": "stream",
     "text": [
      "Epoch 1/20\n"
     ]
    },
    {
     "name": "stderr",
     "output_type": "stream",
     "text": [
      "2022-11-27 20:26:13.065284: I tensorflow/core/grappler/optimizers/custom_graph_optimizer_registry.cc:114] Plugin optimizer for device_type GPU is enabled.\n"
     ]
    },
    {
     "name": "stdout",
     "output_type": "stream",
     "text": [
      "1493/1493 [==============================] - ETA: 0s - loss: 0.9877 - accuracy: 0.7285"
     ]
    },
    {
     "name": "stderr",
     "output_type": "stream",
     "text": [
      "2022-11-27 20:26:28.755773: I tensorflow/core/grappler/optimizers/custom_graph_optimizer_registry.cc:114] Plugin optimizer for device_type GPU is enabled.\n"
     ]
    },
    {
     "name": "stdout",
     "output_type": "stream",
     "text": [
      "1493/1493 [==============================] - 19s 12ms/step - loss: 0.9877 - accuracy: 0.7285 - val_loss: 0.3635 - val_accuracy: 0.8822 - lr: 0.0010\n",
      "Epoch 2/20\n",
      "1493/1493 [==============================] - 19s 12ms/step - loss: 0.3072 - accuracy: 0.9105 - val_loss: 0.2205 - val_accuracy: 0.9504 - lr: 0.0010\n",
      "Epoch 3/20\n",
      "1493/1493 [==============================] - 19s 13ms/step - loss: 0.2068 - accuracy: 0.9454 - val_loss: 0.1992 - val_accuracy: 0.9339 - lr: 0.0010\n",
      "Epoch 4/20\n",
      "1493/1493 [==============================] - 19s 13ms/step - loss: 0.1509 - accuracy: 0.9646 - val_loss: 0.1265 - val_accuracy: 0.9736 - lr: 0.0010\n",
      "Epoch 5/20\n",
      "1493/1493 [==============================] - 20s 14ms/step - loss: 0.1260 - accuracy: 0.9700 - val_loss: 0.1234 - val_accuracy: 0.9719 - lr: 0.0010\n",
      "Epoch 6/20\n",
      "1493/1493 [==============================] - 18s 12ms/step - loss: 0.1188 - accuracy: 0.9723 - val_loss: 0.0999 - val_accuracy: 0.9791 - lr: 0.0010\n",
      "Epoch 7/20\n",
      "1493/1493 [==============================] - 18s 12ms/step - loss: 0.1047 - accuracy: 0.9748 - val_loss: 0.0911 - val_accuracy: 0.9812 - lr: 0.0010\n",
      "Epoch 8/20\n",
      "1493/1493 [==============================] - 18s 12ms/step - loss: 0.0952 - accuracy: 0.9760 - val_loss: 0.0926 - val_accuracy: 0.9788 - lr: 0.0010\n",
      "Epoch 9/20\n",
      "1490/1493 [============================>.] - ETA: 0s - loss: 0.0898 - accuracy: 0.9774\n",
      "Epoch 9: ReduceLROnPlateau reducing learning rate to 0.0005000000237487257.\n",
      "1493/1493 [==============================] - 18s 12ms/step - loss: 0.0897 - accuracy: 0.9774 - val_loss: 0.0934 - val_accuracy: 0.9787 - lr: 0.0010\n",
      "Epoch 10/20\n",
      "1493/1493 [==============================] - 18s 12ms/step - loss: 0.0666 - accuracy: 0.9844 - val_loss: 0.0673 - val_accuracy: 0.9850 - lr: 5.0000e-04\n",
      "Epoch 11/20\n",
      "1493/1493 [==============================] - 19s 13ms/step - loss: 0.0650 - accuracy: 0.9848 - val_loss: 0.0842 - val_accuracy: 0.9784 - lr: 5.0000e-04\n",
      "Epoch 12/20\n",
      "1489/1493 [============================>.] - ETA: 0s - loss: 0.0615 - accuracy: 0.9855\n",
      "Epoch 12: ReduceLROnPlateau reducing learning rate to 0.0002500000118743628.\n",
      "1493/1493 [==============================] - 19s 12ms/step - loss: 0.0616 - accuracy: 0.9855 - val_loss: 0.0798 - val_accuracy: 0.9788 - lr: 5.0000e-04\n",
      "Epoch 13/20\n",
      "1493/1493 [==============================] - 18s 12ms/step - loss: 0.0523 - accuracy: 0.9885 - val_loss: 0.0617 - val_accuracy: 0.9869 - lr: 2.5000e-04\n",
      "Epoch 14/20\n",
      "1493/1493 [==============================] - 18s 12ms/step - loss: 0.0509 - accuracy: 0.9886 - val_loss: 0.0680 - val_accuracy: 0.9849 - lr: 2.5000e-04\n",
      "Epoch 15/20\n",
      "1493/1493 [==============================] - 18s 12ms/step - loss: 0.0513 - accuracy: 0.9884 - val_loss: 0.0552 - val_accuracy: 0.9877 - lr: 2.5000e-04\n",
      "Epoch 16/20\n",
      "1493/1493 [==============================] - 18s 12ms/step - loss: 0.0486 - accuracy: 0.9894 - val_loss: 0.0546 - val_accuracy: 0.9882 - lr: 2.5000e-04\n",
      "Epoch 17/20\n",
      "1493/1493 [==============================] - 19s 13ms/step - loss: 0.0476 - accuracy: 0.9895 - val_loss: 0.0635 - val_accuracy: 0.9860 - lr: 2.5000e-04\n",
      "Epoch 18/20\n",
      "1493/1493 [==============================] - ETA: 0s - loss: 0.0467 - accuracy: 0.9899\n",
      "Epoch 18: ReduceLROnPlateau reducing learning rate to 0.0001250000059371814.\n",
      "1493/1493 [==============================] - 18s 12ms/step - loss: 0.0467 - accuracy: 0.9899 - val_loss: 0.0671 - val_accuracy: 0.9841 - lr: 2.5000e-04\n",
      "Epoch 19/20\n",
      "1493/1493 [==============================] - 19s 13ms/step - loss: 0.0423 - accuracy: 0.9914 - val_loss: 0.0521 - val_accuracy: 0.9884 - lr: 1.2500e-04\n",
      "Epoch 20/20\n",
      "1493/1493 [==============================] - 18s 12ms/step - loss: 0.0416 - accuracy: 0.9912 - val_loss: 0.0493 - val_accuracy: 0.9895 - lr: 1.2500e-04\n"
     ]
    }
   ],
   "source": [
    "history = model.fit(X_train, y_train, batch_size=32, epochs=20, validation_data=(X_test, y_test), callbacks=[learning_rate_reduction])"
   ]
  },
  {
   "cell_type": "code",
   "execution_count": 56,
   "metadata": {},
   "outputs": [
    {
     "name": "stdout",
     "output_type": "stream",
     "text": [
      "374/374 [==============================] - 1s 3ms/step\n"
     ]
    },
    {
     "data": {
      "image/png": "[encoded data removed]",
      "text/plain": [
       "<Figure size 1000x1000 with 2 Axes>"
      ]
     },
     "metadata": {},
     "output_type": "display_data"
    }
   ],
   "source": [
    "# matriz de confusión para el conjunto de prueba\n",
    "import seaborn as sns\n",
    "y_pred = model.predict(X_test)\n",
    "y_pred = np.argmax(y_pred, axis=1)\n",
    "y_test = np.argmax(y_test, axis=1)\n",
    "cm = confusion_matrix(y_test, y_pred)\n",
    "plt.figure(figsize=(10,10))\n",
    "sns.heatmap(cm, annot=True, fmt=\"d\")\n",
    "plt.title('Matriz de confusión', fontsize=15)\n",
    "plt.ylabel('Etiqueta real', fontsize=12)\n",
    "plt.xlabel('Etiqueta predicha', fontsize=12)\n",
    "plt.show()\n"
   ]
  },
  {
   "cell_type": "code",
   "execution_count": 23,
   "metadata": {},
   "outputs": [],
   "source": [
    "# A continuacion, tenemos que crear un archivo de etiquetas que contendra todas nuestras etiquetas (importante para Flutter)\n",
    "labels = '\\n'.join(sorted(df['Output'].unique())) \n",
    "with open('labels.txt', 'w') as f: # escribe en el archivo labels.txt, y si no existe, lo crea, y si existe, lo sobreescribe. (eso es lo que 'w' es para)\n",
    "    f.write(labels)"
   ]
  },
  {
   "cell_type": "code",
   "execution_count": 24,
   "metadata": {},
   "outputs": [
    {
     "name": "stdout",
     "output_type": "stream",
     "text": [
      "INFO:tensorflow:Assets written to: assets\n",
      "INFO:tensorflow:Assets written to: /var/folders/w9/47hfrj5s20n22dxytnnn2mjh0000gn/T/tmp_hambkdp/assets\n"
     ]
    },
    {
     "name": "stderr",
     "output_type": "stream",
     "text": [
      "2022-11-27 20:33:06.092756: W tensorflow/compiler/mlir/lite/python/tf_tfl_flatbuffer_helpers.cc:362] Ignored output_format.\n",
      "2022-11-27 20:33:06.092774: W tensorflow/compiler/mlir/lite/python/tf_tfl_flatbuffer_helpers.cc:365] Ignored drop_control_dependency.\n",
      "2022-11-27 20:33:06.093274: I tensorflow/cc/saved_model/reader.cc:45] Reading SavedModel from: /var/folders/w9/47hfrj5s20n22dxytnnn2mjh0000gn/T/tmp_hambkdp\n",
      "2022-11-27 20:33:06.094158: I tensorflow/cc/saved_model/reader.cc:89] Reading meta graph with tags { serve }\n",
      "2022-11-27 20:33:06.094170: I tensorflow/cc/saved_model/reader.cc:130] Reading SavedModel debug info (if present) from: /var/folders/w9/47hfrj5s20n22dxytnnn2mjh0000gn/T/tmp_hambkdp\n",
      "2022-11-27 20:33:06.096518: I tensorflow/compiler/mlir/mlir_graph_optimization_pass.cc:354] MLIR V1 optimization pass is not enabled\n",
      "2022-11-27 20:33:06.097341: I tensorflow/cc/saved_model/loader.cc:229] Restoring SavedModel bundle.\n",
      "2022-11-27 20:33:06.135250: I tensorflow/cc/saved_model/loader.cc:213] Running initialization op on SavedModel bundle at path: /var/folders/w9/47hfrj5s20n22dxytnnn2mjh0000gn/T/tmp_hambkdp\n",
      "2022-11-27 20:33:06.142292: I tensorflow/cc/saved_model/loader.cc:305] SavedModel load for tags { serve }; Status: success: OK. Took 49019 microseconds.\n",
      "2022-11-27 20:33:06.169495: I tensorflow/compiler/mlir/tensorflow/utils/dump_mlir_util.cc:268] disabling MLIR crash reproducer, set env var `MLIR_CRASH_REPRODUCER_DIRECTORY` to enable.\n"
     ]
    }
   ],
   "source": [
    "# con nuestra red neuronal entrenada con tensorflow y keras, podemos exportarla\n",
    "saved_model_dir = '' # directorio donde se guardara el modelo\n",
    "tf.saved_model.save(model, saved_model_dir) # guarda el modelo en el directorio\n",
    "\n",
    "converter = tf.lite.TFLiteConverter.from_saved_model(saved_model_dir) \n",
    "tflite_model = converter.convert() # convierte el modelo en un modelo de tensorflow lite, que pueda usar flutter \n",
    "with open('model.tflite', 'wb') as f: # guardamos el modelo en un archivo llamado model.tflite, y si no existe, lo crea, y si existe, lo sobreescribe. (eso es lo que 'wb' es para)\n",
    "  f.write(tflite_model)"
   ]
  },
  {
   "cell_type": "code",
   "execution_count": 30,
   "metadata": {},
   "outputs": [],
   "source": [
    "# Cargamos el modelo\n",
    "interpreter = tf.lite.Interpreter(model_path=\"model.tflite\")\n",
    "interpreter.allocate_tensors()\n",
    "\n",
    "# Obtenemos las entradas y salidas del modelo\n",
    "input_details = interpreter.get_input_details()\n",
    "output_details = interpreter.get_output_details()\n"
   ]
  },
  {
   "cell_type": "code",
   "execution_count": 47,
   "metadata": {},
   "outputs": [],
   "source": [
    "import cv2 \n",
    "import mediapipe as mp\n",
    "def image_processed(hand_img):\n",
    "    # 1. Convertir a RGB\n",
    "    img_rgb = cv2.cvtColor(hand_img, cv2.COLOR_BGR2RGB)\n",
    "    # 2. Dar la vuelta a la imagen\n",
    "    img_flip = cv2.flip(img_rgb, 1)\n",
    "    # 3. Mediapipe\n",
    "    mp_hands = mp.solutions.hands\n",
    "    hands = mp_hands.Hands(static_image_mode=True,\n",
    "                           max_num_hands=2, min_detection_confidence=0.7)\n",
    "    output = hands.process(img_flip)\n",
    "    hands.close()\n",
    "\n",
    "    # Extraemos la información de las manos\n",
    "    try:\n",
    "        data = output.multi_hand_landmarks[0]\n",
    "        data = str(data)\n",
    "        data = data.strip().split('\\n')\n",
    "        garbage = ['landmark {', '  visibility: 0.0', '  presence: 0.0', '}']\n",
    "\n",
    "        # Eliminamos los datos basura\n",
    "        without_garbage = []\n",
    "        for i in data:\n",
    "            if i not in garbage:\n",
    "                without_garbage.append(i)\n",
    "\n",
    "        # Extraemos los datos de forma numérica\n",
    "        clean = []\n",
    "        for i in without_garbage:\n",
    "            i = i.strip()\n",
    "            clean.append(i[2:])\n",
    "\n",
    "        # Eliminamos el eje z\n",
    "        finalClean = []\n",
    "        for i in range(0, len(clean)):\n",
    "            if (i+1) % 3 != 0:\n",
    "                finalClean.append(float(clean[i]))\n",
    "        return finalClean\n",
    "    # Si no detecta ninguna mano, devuelve un array de ceros\n",
    "    except:\n",
    "        return(np.zeros([1, 42], dtype=int)[0])\n"
   ]
  },
  {
   "cell_type": "code",
   "execution_count": 83,
   "metadata": {},
   "outputs": [
    {
     "name": "stdout",
     "output_type": "stream",
     "text": [
      "Z 0.8557944\n",
      "M 0.09340868\n",
      "K 0.044117328\n",
      "L 0.0048716655\n",
      "V 0.0014825299\n"
     ]
    }
   ],
   "source": [
    "img = cv2.imread('dataset/Test/Z/3001.jpg')\n",
    "hand_array = image_processed(img)\n",
    "# print (hand_array)\n",
    "hand_array = np.array(hand_array).reshape(1, 42)\n",
    "\n",
    "# Predecimos\n",
    "input_shape = input_details[0]['shape']\n",
    "input_data = np.array(hand_array)\n",
    "\n",
    "interpreter.set_tensor(input_details[0]['index'], input_data.astype(np.float32)) \n",
    "interpreter.invoke()\n",
    "\n",
    "output_data = interpreter.get_tensor(output_details[0]['index'])\n",
    "results = np.squeeze(output_data)\n",
    "\n",
    "# Mostramos el resultado\n",
    "top_k = results.argsort()[-5:][::-1]\n",
    "labels = open('labels.txt').read().splitlines()\n",
    "for i in top_k:\n",
    "    print(labels[i], results[i])"
   ]
  },
  {
   "cell_type": "code",
   "execution_count": null,
   "metadata": {},
   "outputs": [],
   "source": []
  }
 ],
 "metadata": {
  "kernelspec": {
   "display_name": "Python 3.9.13 ('tensorflow')",
   "language": "python",
   "name": "python3"
  },
  "language_info": {
   "codemirror_mode": {
    "name": "ipython",
    "version": 3
   },
   "file_extension": ".py",
   "mimetype": "text/x-python",
   "name": "python",
   "nbconvert_exporter": "python",
   "pygments_lexer": "ipython3",
   "version": "3.9.13"
  },
  "vscode": {
   "interpreter": {
    "hash": "504e7e5b2741c53adad9e7ce964919d2b35311b8c691a892782b3bc51b096c66"
   }
  }
 },
 "nbformat": 4,
 "nbformat_minor": 2
}
